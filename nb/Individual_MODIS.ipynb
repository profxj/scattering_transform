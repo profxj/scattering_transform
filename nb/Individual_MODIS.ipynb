{
 "cells": [
  {
   "cell_type": "markdown",
   "id": "1c27f37f-a725-480a-9e4f-97b3f6f37291",
   "metadata": {
    "tags": []
   },
   "source": [
    "# Examine Individual MODIS images"
   ]
  },
  {
   "cell_type": "code",
   "execution_count": 18,
   "id": "0b4bd6f9-4437-4769-b5ba-3362a7d3e96c",
   "metadata": {
    "tags": []
   },
   "outputs": [],
   "source": [
    "# imports\n",
    "import h5py\n",
    "import os\n",
    "import numpy as np\n",
    "\n",
    "import pandas\n",
    "import seaborn as sns\n",
    "\n",
    "#\n",
    "from ulmo import io as ulmo_io\n",
    "from ulmo.plotting import plotting"
   ]
  },
  {
   "cell_type": "markdown",
   "id": "6f804753-5cc3-42a4-835e-78e8c9f33a8c",
   "metadata": {},
   "source": [
    "# Load coefficients"
   ]
  },
  {
   "cell_type": "code",
   "execution_count": 13,
   "id": "c9915114-1bf1-49b8-9323-d51619e3aa30",
   "metadata": {
    "tags": []
   },
   "outputs": [],
   "source": [
    "st_coeff_file = os.path.join(os.getenv('OS_SST'), 'MODIS_L2', 'Scattering',\n",
    "                             'MODIS_2009_ST_coeff.h5')\n",
    "f = h5py.File(st_coeff_file, 'r')"
   ]
  },
  {
   "cell_type": "markdown",
   "id": "104c0fe2-64cc-40c3-a48b-ca86e69973d9",
   "metadata": {},
   "source": [
    "## Calculate"
   ]
  },
  {
   "cell_type": "code",
   "execution_count": 20,
   "id": "daa248c9-02d6-4cbe-9a23-a06386c8fa96",
   "metadata": {
    "tags": []
   },
   "outputs": [],
   "source": [
    "S1_iso = f['S1'][:].mean(-1)"
   ]
  },
  {
   "cell_type": "code",
   "execution_count": 37,
   "id": "9493432e-c000-4f05-a623-a7cdcda4fce9",
   "metadata": {
    "tags": []
   },
   "outputs": [],
   "source": [
    "#for J in range(5):\n",
    "#    df_coeff[f's1_{J}'] = S1_iso[:,J]"
   ]
  },
  {
   "cell_type": "code",
   "execution_count": 32,
   "id": "cebe3120-31e5-40c6-80f8-9e0e2810f87d",
   "metadata": {
    "tags": []
   },
   "outputs": [],
   "source": [
    "S2 = f['S2'][:]\n",
    "J=5\n",
    "L=4\n",
    "S2_iso = np.zeros((S2.shape[0],J,J,L))\n",
    "for l1 in range(L):\n",
    "    for l2 in range(L):\n",
    "        S2_iso [:,:,:,(l2-l1)%L] += S2 [:,:,:,l1,l2]\n",
    "S2_iso  /= L"
   ]
  },
  {
   "cell_type": "code",
   "execution_count": 33,
   "id": "fb20a51c-2157-4e44-98b3-b7507377538c",
   "metadata": {
    "tags": []
   },
   "outputs": [],
   "source": [
    "s21 = S2_iso.mean(-1) / S1_iso[:,:,None]\n",
    "s22 = S2_iso[:,:,:,0] / S2_iso[:,:,:,L//2]"
   ]
  },
  {
   "cell_type": "code",
   "execution_count": 51,
   "id": "c1c58c17-b621-4dc5-89f3-483c58451908",
   "metadata": {
    "tags": []
   },
   "outputs": [],
   "source": [
    "avg_s21 = np.nanmean(s21, axis=(-1,-2))\n",
    "avg_s22 = np.nanmean(s22, axis=(-1,-2))"
   ]
  },
  {
   "cell_type": "markdown",
   "id": "5e8dd547-34cd-4db6-9acd-2ddf4252e700",
   "metadata": {},
   "source": [
    "# Load images"
   ]
  },
  {
   "cell_type": "code",
   "execution_count": 14,
   "id": "da1463fa-d784-4804-b255-3a0c08736405",
   "metadata": {
    "tags": []
   },
   "outputs": [],
   "source": [
    "preproc_file = os.path.join(\n",
    "        os.getenv('OS_SST'), 'MODIS_L2', 'PreProc', \n",
    "        'MODIS_R2019_2009_95clear_128x128_preproc_std.h5')\n",
    "f_imgs = h5py.File(preproc_file, 'r')"
   ]
  },
  {
   "cell_type": "markdown",
   "id": "66fde1d7-8d05-46f6-97b8-10a67621cd16",
   "metadata": {
    "tags": []
   },
   "source": [
    "# Load up the Table"
   ]
  },
  {
   "cell_type": "code",
   "execution_count": 5,
   "id": "c3112085-a688-4fc2-8b99-673b1eb7f45b",
   "metadata": {
    "tags": []
   },
   "outputs": [
    {
     "name": "stdout",
     "output_type": "stream",
     "text": [
      "Read main table: /home/xavier/Projects/Oceanography/SST/MODIS_L2/Nenya/Tables/MODIS_SSL_96clear_v4_DT1.parquet\n"
     ]
    }
   ],
   "source": [
    "#tbl_file = os.path.join(os.getenv('OS_SST'), 'MODIS_L2', 'Tables', 'MODIS_L2_std.parquet')\n",
    "tbl_file = os.path.join(os.getenv('OS_SST'), 'MODIS_L2', 'Nenya', 'Tables', 'MODIS_SSL_96clear_v4_DT1.parquet')\n",
    "modis_dt1 = ulmo_io.load_main_table(tbl_file)"
   ]
  },
  {
   "cell_type": "code",
   "execution_count": 7,
   "id": "1554d0c8-f1fd-4391-9caa-08046dbcd295",
   "metadata": {
    "tags": []
   },
   "outputs": [
    {
     "data": {
      "text/html": [
       "<div>\n",
       "<style scoped>\n",
       "    .dataframe tbody tr th:only-of-type {\n",
       "        vertical-align: middle;\n",
       "    }\n",
       "\n",
       "    .dataframe tbody tr th {\n",
       "        vertical-align: top;\n",
       "    }\n",
       "\n",
       "    .dataframe thead th {\n",
       "        text-align: right;\n",
       "    }\n",
       "</style>\n",
       "<table border=\"1\" class=\"dataframe\">\n",
       "  <thead>\n",
       "    <tr style=\"text-align: right;\">\n",
       "      <th></th>\n",
       "      <th>lat</th>\n",
       "      <th>lon</th>\n",
       "      <th>col</th>\n",
       "      <th>datetime</th>\n",
       "      <th>LL</th>\n",
       "      <th>row</th>\n",
       "      <th>clear_fraction</th>\n",
       "      <th>mean_temperature</th>\n",
       "      <th>Tmin</th>\n",
       "      <th>Tmax</th>\n",
       "      <th>...</th>\n",
       "      <th>merid_slope</th>\n",
       "      <th>zonal_slope_err</th>\n",
       "      <th>merid_slope_err</th>\n",
       "      <th>ulmo_pp_type</th>\n",
       "      <th>DT40</th>\n",
       "      <th>ulmo_pp_idx</th>\n",
       "      <th>ulmo_pp_file</th>\n",
       "      <th>US0</th>\n",
       "      <th>US1</th>\n",
       "      <th>DT</th>\n",
       "    </tr>\n",
       "  </thead>\n",
       "  <tbody>\n",
       "    <tr>\n",
       "      <th>0</th>\n",
       "      <td>13.980967</td>\n",
       "      <td>62.675774</td>\n",
       "      <td>517</td>\n",
       "      <td>2003-03-10 21:25:00</td>\n",
       "      <td>520.178711</td>\n",
       "      <td>304</td>\n",
       "      <td>0.000000</td>\n",
       "      <td>26.199476</td>\n",
       "      <td>25.250000</td>\n",
       "      <td>26.885000</td>\n",
       "      <td>...</td>\n",
       "      <td>-2.126147</td>\n",
       "      <td>0.137467</td>\n",
       "      <td>0.224244</td>\n",
       "      <td>0</td>\n",
       "      <td>0.577624</td>\n",
       "      <td>0</td>\n",
       "      <td>s3://modis-l2/PreProc/MODIS_R2019_2003_95clear...</td>\n",
       "      <td>0.994515</td>\n",
       "      <td>-1.162040</td>\n",
       "      <td>0.660000</td>\n",
       "    </tr>\n",
       "    <tr>\n",
       "      <th>3</th>\n",
       "      <td>-11.910899</td>\n",
       "      <td>129.427200</td>\n",
       "      <td>485</td>\n",
       "      <td>2003-10-11 16:40:00</td>\n",
       "      <td>282.105896</td>\n",
       "      <td>1040</td>\n",
       "      <td>0.011414</td>\n",
       "      <td>28.777988</td>\n",
       "      <td>27.719999</td>\n",
       "      <td>30.639999</td>\n",
       "      <td>...</td>\n",
       "      <td>-1.593005</td>\n",
       "      <td>0.141151</td>\n",
       "      <td>0.189891</td>\n",
       "      <td>0</td>\n",
       "      <td>0.583875</td>\n",
       "      <td>5</td>\n",
       "      <td>s3://modis-l2/PreProc/MODIS_R2019_2003_95clear...</td>\n",
       "      <td>7.288438</td>\n",
       "      <td>-1.029284</td>\n",
       "      <td>0.799999</td>\n",
       "    </tr>\n",
       "    <tr>\n",
       "      <th>4</th>\n",
       "      <td>-20.774708</td>\n",
       "      <td>-37.858100</td>\n",
       "      <td>805</td>\n",
       "      <td>2003-09-21 03:55:00</td>\n",
       "      <td>283.446045</td>\n",
       "      <td>1488</td>\n",
       "      <td>0.025513</td>\n",
       "      <td>23.811947</td>\n",
       "      <td>22.709999</td>\n",
       "      <td>25.090000</td>\n",
       "      <td>...</td>\n",
       "      <td>-0.909913</td>\n",
       "      <td>0.099380</td>\n",
       "      <td>0.306343</td>\n",
       "      <td>0</td>\n",
       "      <td>0.537749</td>\n",
       "      <td>6</td>\n",
       "      <td>s3://modis-l2/PreProc/MODIS_R2019_2003_95clear...</td>\n",
       "      <td>7.731178</td>\n",
       "      <td>0.076349</td>\n",
       "      <td>0.689999</td>\n",
       "    </tr>\n",
       "    <tr>\n",
       "      <th>5</th>\n",
       "      <td>-29.013840</td>\n",
       "      <td>-123.112976</td>\n",
       "      <td>517</td>\n",
       "      <td>2003-01-04 09:20:00</td>\n",
       "      <td>192.348022</td>\n",
       "      <td>976</td>\n",
       "      <td>0.020508</td>\n",
       "      <td>23.734558</td>\n",
       "      <td>21.215000</td>\n",
       "      <td>24.734999</td>\n",
       "      <td>...</td>\n",
       "      <td>-2.198193</td>\n",
       "      <td>0.081723</td>\n",
       "      <td>0.143971</td>\n",
       "      <td>0</td>\n",
       "      <td>0.776376</td>\n",
       "      <td>7</td>\n",
       "      <td>s3://modis-l2/PreProc/MODIS_R2019_2003_95clear...</td>\n",
       "      <td>4.959723</td>\n",
       "      <td>1.635765</td>\n",
       "      <td>0.910000</td>\n",
       "    </tr>\n",
       "    <tr>\n",
       "      <th>6</th>\n",
       "      <td>11.424337</td>\n",
       "      <td>-19.698378</td>\n",
       "      <td>677</td>\n",
       "      <td>2003-03-21 02:55:00</td>\n",
       "      <td>345.454712</td>\n",
       "      <td>1901</td>\n",
       "      <td>0.022400</td>\n",
       "      <td>23.052279</td>\n",
       "      <td>21.209999</td>\n",
       "      <td>24.504999</td>\n",
       "      <td>...</td>\n",
       "      <td>-1.744191</td>\n",
       "      <td>0.143034</td>\n",
       "      <td>0.202087</td>\n",
       "      <td>0</td>\n",
       "      <td>0.738875</td>\n",
       "      <td>9</td>\n",
       "      <td>s3://modis-l2/PreProc/MODIS_R2019_2003_95clear...</td>\n",
       "      <td>-0.124575</td>\n",
       "      <td>1.851966</td>\n",
       "      <td>1.215000</td>\n",
       "    </tr>\n",
       "  </tbody>\n",
       "</table>\n",
       "<p>5 rows × 32 columns</p>\n",
       "</div>"
      ],
      "text/plain": [
       "         lat         lon  col            datetime          LL   row  \\\n",
       "0  13.980967   62.675774  517 2003-03-10 21:25:00  520.178711   304   \n",
       "3 -11.910899  129.427200  485 2003-10-11 16:40:00  282.105896  1040   \n",
       "4 -20.774708  -37.858100  805 2003-09-21 03:55:00  283.446045  1488   \n",
       "5 -29.013840 -123.112976  517 2003-01-04 09:20:00  192.348022   976   \n",
       "6  11.424337  -19.698378  677 2003-03-21 02:55:00  345.454712  1901   \n",
       "\n",
       "   clear_fraction  mean_temperature       Tmin       Tmax  ...  merid_slope  \\\n",
       "0        0.000000         26.199476  25.250000  26.885000  ...    -2.126147   \n",
       "3        0.011414         28.777988  27.719999  30.639999  ...    -1.593005   \n",
       "4        0.025513         23.811947  22.709999  25.090000  ...    -0.909913   \n",
       "5        0.020508         23.734558  21.215000  24.734999  ...    -2.198193   \n",
       "6        0.022400         23.052279  21.209999  24.504999  ...    -1.744191   \n",
       "\n",
       "   zonal_slope_err merid_slope_err  ulmo_pp_type      DT40 ulmo_pp_idx  \\\n",
       "0         0.137467        0.224244             0  0.577624           0   \n",
       "3         0.141151        0.189891             0  0.583875           5   \n",
       "4         0.099380        0.306343             0  0.537749           6   \n",
       "5         0.081723        0.143971             0  0.776376           7   \n",
       "6         0.143034        0.202087             0  0.738875           9   \n",
       "\n",
       "                                        ulmo_pp_file       US0       US1  \\\n",
       "0  s3://modis-l2/PreProc/MODIS_R2019_2003_95clear...  0.994515 -1.162040   \n",
       "3  s3://modis-l2/PreProc/MODIS_R2019_2003_95clear...  7.288438 -1.029284   \n",
       "4  s3://modis-l2/PreProc/MODIS_R2019_2003_95clear...  7.731178  0.076349   \n",
       "5  s3://modis-l2/PreProc/MODIS_R2019_2003_95clear...  4.959723  1.635765   \n",
       "6  s3://modis-l2/PreProc/MODIS_R2019_2003_95clear... -0.124575  1.851966   \n",
       "\n",
       "         DT  \n",
       "0  0.660000  \n",
       "3  0.799999  \n",
       "4  0.689999  \n",
       "5  0.910000  \n",
       "6  1.215000  \n",
       "\n",
       "[5 rows x 32 columns]"
      ]
     },
     "execution_count": 7,
     "metadata": {},
     "output_type": "execute_result"
    }
   ],
   "source": [
    "modis_dt1.head()"
   ]
  },
  {
   "cell_type": "code",
   "execution_count": 8,
   "id": "16002357-0cac-42f5-80ab-cdde34a1fda0",
   "metadata": {
    "tags": []
   },
   "outputs": [
    {
     "data": {
      "text/plain": [
       "'s3://modis-l2/PreProc/MODIS_R2019_2003_95clear_128x128_preproc_std.h5'"
      ]
     },
     "execution_count": 8,
     "metadata": {},
     "output_type": "execute_result"
    }
   ],
   "source": [
    "modis_dt1.iloc[0].ulmo_pp_file"
   ]
  },
  {
   "cell_type": "markdown",
   "id": "22af877a-4ff7-465a-bdc0-a1835bb67e06",
   "metadata": {},
   "source": [
    "# Cut down the Table (for now)"
   ]
  },
  {
   "cell_type": "code",
   "execution_count": 48,
   "id": "cf26d01c-82ca-41be-ad8f-9e613022da56",
   "metadata": {
    "tags": []
   },
   "outputs": [],
   "source": [
    "gd = modis_dt1.ulmo_pp_file == 's3://modis-l2/PreProc/MODIS_R2019_2009_95clear_128x128_preproc_std.h5'\n",
    "modis_cut = modis_dt1[gd].copy()"
   ]
  },
  {
   "cell_type": "code",
   "execution_count": 49,
   "id": "e7c4c12f-a647-4136-a7dd-02a0f3352a60",
   "metadata": {
    "tags": []
   },
   "outputs": [
    {
     "data": {
      "text/html": [
       "<div>\n",
       "<style scoped>\n",
       "    .dataframe tbody tr th:only-of-type {\n",
       "        vertical-align: middle;\n",
       "    }\n",
       "\n",
       "    .dataframe tbody tr th {\n",
       "        vertical-align: top;\n",
       "    }\n",
       "\n",
       "    .dataframe thead th {\n",
       "        text-align: right;\n",
       "    }\n",
       "</style>\n",
       "<table border=\"1\" class=\"dataframe\">\n",
       "  <thead>\n",
       "    <tr style=\"text-align: right;\">\n",
       "      <th></th>\n",
       "      <th>lat</th>\n",
       "      <th>lon</th>\n",
       "      <th>col</th>\n",
       "      <th>datetime</th>\n",
       "      <th>LL</th>\n",
       "      <th>row</th>\n",
       "      <th>clear_fraction</th>\n",
       "      <th>mean_temperature</th>\n",
       "      <th>Tmin</th>\n",
       "      <th>Tmax</th>\n",
       "      <th>...</th>\n",
       "      <th>merid_slope</th>\n",
       "      <th>zonal_slope_err</th>\n",
       "      <th>merid_slope_err</th>\n",
       "      <th>ulmo_pp_type</th>\n",
       "      <th>DT40</th>\n",
       "      <th>ulmo_pp_idx</th>\n",
       "      <th>ulmo_pp_file</th>\n",
       "      <th>US0</th>\n",
       "      <th>US1</th>\n",
       "      <th>DT</th>\n",
       "    </tr>\n",
       "  </thead>\n",
       "  <tbody>\n",
       "    <tr>\n",
       "      <th>2274915</th>\n",
       "      <td>-24.868008</td>\n",
       "      <td>12.168278</td>\n",
       "      <td>805</td>\n",
       "      <td>2009-01-01 00:40:00</td>\n",
       "      <td>82.548706</td>\n",
       "      <td>1040</td>\n",
       "      <td>0.012756</td>\n",
       "      <td>19.390739</td>\n",
       "      <td>17.535000</td>\n",
       "      <td>20.789999</td>\n",
       "      <td>...</td>\n",
       "      <td>-1.641738</td>\n",
       "      <td>0.102375</td>\n",
       "      <td>0.153740</td>\n",
       "      <td>0</td>\n",
       "      <td>0.682874</td>\n",
       "      <td>710593</td>\n",
       "      <td>s3://modis-l2/PreProc/MODIS_R2019_2009_95clear...</td>\n",
       "      <td>9.173037</td>\n",
       "      <td>0.691282</td>\n",
       "      <td>1.485001</td>\n",
       "    </tr>\n",
       "    <tr>\n",
       "      <th>2420130</th>\n",
       "      <td>-24.582869</td>\n",
       "      <td>12.232359</td>\n",
       "      <td>805</td>\n",
       "      <td>2009-01-01 00:40:00</td>\n",
       "      <td>70.756470</td>\n",
       "      <td>1008</td>\n",
       "      <td>0.036133</td>\n",
       "      <td>19.521858</td>\n",
       "      <td>17.490000</td>\n",
       "      <td>20.789999</td>\n",
       "      <td>...</td>\n",
       "      <td>-1.641703</td>\n",
       "      <td>0.112632</td>\n",
       "      <td>0.166426</td>\n",
       "      <td>0</td>\n",
       "      <td>0.783875</td>\n",
       "      <td>383107</td>\n",
       "      <td>s3://modis-l2/PreProc/MODIS_R2019_2009_95clear...</td>\n",
       "      <td>9.135323</td>\n",
       "      <td>0.741989</td>\n",
       "      <td>1.410000</td>\n",
       "    </tr>\n",
       "    <tr>\n",
       "      <th>2491896</th>\n",
       "      <td>-25.346592</td>\n",
       "      <td>11.364262</td>\n",
       "      <td>741</td>\n",
       "      <td>2009-01-01 00:40:00</td>\n",
       "      <td>98.257690</td>\n",
       "      <td>1104</td>\n",
       "      <td>0.025024</td>\n",
       "      <td>19.802391</td>\n",
       "      <td>18.359999</td>\n",
       "      <td>20.914999</td>\n",
       "      <td>...</td>\n",
       "      <td>-1.891910</td>\n",
       "      <td>0.076300</td>\n",
       "      <td>0.292666</td>\n",
       "      <td>0</td>\n",
       "      <td>0.956501</td>\n",
       "      <td>7588</td>\n",
       "      <td>s3://modis-l2/PreProc/MODIS_R2019_2009_95clear...</td>\n",
       "      <td>8.985909</td>\n",
       "      <td>0.984576</td>\n",
       "      <td>1.100000</td>\n",
       "    </tr>\n",
       "    <tr>\n",
       "      <th>2524389</th>\n",
       "      <td>-25.016357</td>\n",
       "      <td>11.103628</td>\n",
       "      <td>709</td>\n",
       "      <td>2009-01-01 00:40:00</td>\n",
       "      <td>30.888916</td>\n",
       "      <td>1072</td>\n",
       "      <td>0.022095</td>\n",
       "      <td>19.938133</td>\n",
       "      <td>17.855000</td>\n",
       "      <td>21.059999</td>\n",
       "      <td>...</td>\n",
       "      <td>-1.556116</td>\n",
       "      <td>0.104058</td>\n",
       "      <td>0.099551</td>\n",
       "      <td>0</td>\n",
       "      <td>0.975624</td>\n",
       "      <td>528229</td>\n",
       "      <td>s3://modis-l2/PreProc/MODIS_R2019_2009_95clear...</td>\n",
       "      <td>8.445560</td>\n",
       "      <td>1.050207</td>\n",
       "      <td>1.139999</td>\n",
       "    </tr>\n",
       "    <tr>\n",
       "      <th>2546725</th>\n",
       "      <td>-25.154379</td>\n",
       "      <td>12.105114</td>\n",
       "      <td>805</td>\n",
       "      <td>2009-01-01 00:40:00</td>\n",
       "      <td>17.167542</td>\n",
       "      <td>1072</td>\n",
       "      <td>0.027893</td>\n",
       "      <td>19.314190</td>\n",
       "      <td>17.180000</td>\n",
       "      <td>20.789999</td>\n",
       "      <td>...</td>\n",
       "      <td>-1.635058</td>\n",
       "      <td>0.132528</td>\n",
       "      <td>0.177504</td>\n",
       "      <td>0</td>\n",
       "      <td>0.693999</td>\n",
       "      <td>632802</td>\n",
       "      <td>s3://modis-l2/PreProc/MODIS_R2019_2009_95clear...</td>\n",
       "      <td>9.390476</td>\n",
       "      <td>0.710725</td>\n",
       "      <td>1.350000</td>\n",
       "    </tr>\n",
       "  </tbody>\n",
       "</table>\n",
       "<p>5 rows × 32 columns</p>\n",
       "</div>"
      ],
      "text/plain": [
       "               lat        lon  col            datetime         LL   row  \\\n",
       "2274915 -24.868008  12.168278  805 2009-01-01 00:40:00  82.548706  1040   \n",
       "2420130 -24.582869  12.232359  805 2009-01-01 00:40:00  70.756470  1008   \n",
       "2491896 -25.346592  11.364262  741 2009-01-01 00:40:00  98.257690  1104   \n",
       "2524389 -25.016357  11.103628  709 2009-01-01 00:40:00  30.888916  1072   \n",
       "2546725 -25.154379  12.105114  805 2009-01-01 00:40:00  17.167542  1072   \n",
       "\n",
       "         clear_fraction  mean_temperature       Tmin       Tmax  ...  \\\n",
       "2274915        0.012756         19.390739  17.535000  20.789999  ...   \n",
       "2420130        0.036133         19.521858  17.490000  20.789999  ...   \n",
       "2491896        0.025024         19.802391  18.359999  20.914999  ...   \n",
       "2524389        0.022095         19.938133  17.855000  21.059999  ...   \n",
       "2546725        0.027893         19.314190  17.180000  20.789999  ...   \n",
       "\n",
       "         merid_slope  zonal_slope_err merid_slope_err  ulmo_pp_type      DT40  \\\n",
       "2274915    -1.641738         0.102375        0.153740             0  0.682874   \n",
       "2420130    -1.641703         0.112632        0.166426             0  0.783875   \n",
       "2491896    -1.891910         0.076300        0.292666             0  0.956501   \n",
       "2524389    -1.556116         0.104058        0.099551             0  0.975624   \n",
       "2546725    -1.635058         0.132528        0.177504             0  0.693999   \n",
       "\n",
       "        ulmo_pp_idx                                       ulmo_pp_file  \\\n",
       "2274915      710593  s3://modis-l2/PreProc/MODIS_R2019_2009_95clear...   \n",
       "2420130      383107  s3://modis-l2/PreProc/MODIS_R2019_2009_95clear...   \n",
       "2491896        7588  s3://modis-l2/PreProc/MODIS_R2019_2009_95clear...   \n",
       "2524389      528229  s3://modis-l2/PreProc/MODIS_R2019_2009_95clear...   \n",
       "2546725      632802  s3://modis-l2/PreProc/MODIS_R2019_2009_95clear...   \n",
       "\n",
       "              US0       US1        DT  \n",
       "2274915  9.173037  0.691282  1.485001  \n",
       "2420130  9.135323  0.741989  1.410000  \n",
       "2491896  8.985909  0.984576  1.100000  \n",
       "2524389  8.445560  1.050207  1.139999  \n",
       "2546725  9.390476  0.710725  1.350000  \n",
       "\n",
       "[5 rows x 32 columns]"
      ]
     },
     "execution_count": 49,
     "metadata": {},
     "output_type": "execute_result"
    }
   ],
   "source": [
    "modis_cut.head()"
   ]
  },
  {
   "cell_type": "markdown",
   "id": "b3e19c18-f835-4b68-a0fc-4421586fb04b",
   "metadata": {},
   "source": [
    "## Add in the coefficients"
   ]
  },
  {
   "cell_type": "code",
   "execution_count": 50,
   "id": "30d36cf5-98e1-4c63-971e-32c245c51018",
   "metadata": {
    "tags": []
   },
   "outputs": [
    {
     "data": {
      "text/plain": [
       "(757592, 5, 5)"
      ]
     },
     "execution_count": 50,
     "metadata": {},
     "output_type": "execute_result"
    }
   ],
   "source": [
    "s21.shape"
   ]
  },
  {
   "cell_type": "code",
   "execution_count": 39,
   "id": "0a7b6da5-65b5-409d-a55c-566c3f78ee7d",
   "metadata": {
    "tags": []
   },
   "outputs": [],
   "source": [
    "for J in range(5):\n",
    "    modis_cut[f's1_{J}'] = S1_iso[modis_cut.pp_idx, J]"
   ]
  },
  {
   "cell_type": "code",
   "execution_count": 52,
   "id": "86fd3646-75bf-41f9-be2c-bfe5b3e006e2",
   "metadata": {
    "tags": []
   },
   "outputs": [],
   "source": [
    "modis_cut['s21'] = avg_s21[modis_cut.pp_idx]\n",
    "modis_cut['s22'] = avg_s22[modis_cut.pp_idx]"
   ]
  },
  {
   "cell_type": "markdown",
   "id": "4f551791-c8ea-4033-a1e7-d5739b2899c0",
   "metadata": {},
   "source": [
    "# Examine a few"
   ]
  },
  {
   "cell_type": "code",
   "execution_count": 53,
   "id": "48644d4a-43cf-4f3a-ac8b-aa6858cb9e7c",
   "metadata": {
    "tags": []
   },
   "outputs": [
    {
     "data": {
      "text/plain": [
       "lat                                                         -38.35867\n",
       "lon                                                         55.130726\n",
       "col                                                               901\n",
       "datetime                                          2009-08-17 21:45:00\n",
       "LL                                                       -1475.335449\n",
       "row                                                               752\n",
       "clear_fraction                                               0.021729\n",
       "mean_temperature                                            15.752453\n",
       "Tmin                                                            9.105\n",
       "Tmax                                                            16.82\n",
       "T90                                                             16.49\n",
       "T10                                                            15.375\n",
       "filename                         AQUA_MODIS.20090817T214508.L2.SST.nc\n",
       "UID                                                125051641323513073\n",
       "pp_file             s3://modis-l2/PreProc/MODIS_R2019_2009_95clear...\n",
       "pp_root                                                      standard\n",
       "field_size                                                        128\n",
       "pp_type                                                             0\n",
       "pp_idx                                                         583400\n",
       "U0                                                           -2.13183\n",
       "U1                                                           1.228832\n",
       "zonal_slope                                                 -1.999312\n",
       "merid_slope                                                 -2.202598\n",
       "zonal_slope_err                                              0.145306\n",
       "merid_slope_err                                               0.07665\n",
       "ulmo_pp_type                                                        0\n",
       "DT40                                                         0.641376\n",
       "ulmo_pp_idx                                                    583400\n",
       "ulmo_pp_file        s3://modis-l2/PreProc/MODIS_R2019_2009_95clear...\n",
       "US0                                                          3.041558\n",
       "US1                                                          2.180254\n",
       "DT                                                              1.115\n",
       "s21                                                          0.271289\n",
       "s22                                                          1.611484\n",
       "Name: 3011995, dtype: object"
      ]
     },
     "execution_count": 53,
     "metadata": {},
     "output_type": "execute_result"
    }
   ],
   "source": [
    "iLL_min = np.argmin(modis_cut.LL)\n",
    "cutout = modis_cut.iloc[iLL_min]\n",
    "cutout"
   ]
  },
  {
   "cell_type": "code",
   "execution_count": 17,
   "id": "582a72e7-0be4-448b-9e6b-caa6d2706b8c",
   "metadata": {
    "tags": []
   },
   "outputs": [
    {
     "data": {
      "text/plain": [
       "(64, 64)"
      ]
     },
     "execution_count": 17,
     "metadata": {},
     "output_type": "execute_result"
    }
   ],
   "source": [
    "img = f_imgs['valid'][cutout.pp_idx,0,...]\n",
    "img.shape"
   ]
  },
  {
   "cell_type": "code",
   "execution_count": 19,
   "id": "ce957b8c-2823-4f84-8c9a-d5ac9c6bc19c",
   "metadata": {
    "tags": []
   },
   "outputs": [
    {
     "data": {
      "text/plain": [
       "<Axes: >"
      ]
     },
     "execution_count": 19,
     "metadata": {},
     "output_type": "execute_result"
    },
    {
     "data": {
      "image/png": "[encoded data removed]",
      "text/plain": [
       "<Figure size 640x480 with 2 Axes>"
      ]
     },
     "metadata": {},
     "output_type": "display_data"
    }
   ],
   "source": [
    "plotting.show_image(img)"
   ]
  },
  {
   "cell_type": "markdown",
   "id": "18cfc923-1c22-4029-9ce7-23559d1151a1",
   "metadata": {},
   "source": [
    "# Boring one (highest LL)"
   ]
  },
  {
   "cell_type": "code",
   "execution_count": 54,
   "id": "e25d4384-d966-4a99-af77-c193d1c5e777",
   "metadata": {
    "tags": []
   },
   "outputs": [
    {
     "data": {
      "text/plain": [
       "822.1823120117188"
      ]
     },
     "execution_count": 54,
     "metadata": {},
     "output_type": "execute_result"
    }
   ],
   "source": [
    "iLL_max = np.argmax(modis_cut.LL)\n",
    "cutout_max = modis_cut.iloc[iLL_max]\n",
    "cutout_max.LL"
   ]
  },
  {
   "cell_type": "code",
   "execution_count": 55,
   "id": "01e26b12-7058-42a0-87ea-e0e50d3ea2a6",
   "metadata": {
    "tags": []
   },
   "outputs": [
    {
     "data": {
      "text/plain": [
       "<Axes: >"
      ]
     },
     "execution_count": 55,
     "metadata": {},
     "output_type": "execute_result"
    },
    {
     "data": {
      "image/png": "[encoded data removed]",
      "text/plain": [
       "<Figure size 640x480 with 2 Axes>"
      ]
     },
     "metadata": {},
     "output_type": "display_data"
    }
   ],
   "source": [
    "img = f_imgs['valid'][cutout_max.pp_idx,0,...]\n",
    "plotting.show_image(img)"
   ]
  },
  {
   "cell_type": "code",
   "execution_count": 56,
   "id": "031672e7-889a-43af-a487-28794ffecd18",
   "metadata": {
    "tags": []
   },
   "outputs": [
    {
     "data": {
      "text/plain": [
       "lat                                                         11.418323\n",
       "lon                                                        -25.076971\n",
       "col                                                               773\n",
       "datetime                                          2009-06-05 03:30:00\n",
       "LL                                                         822.182312\n",
       "row                                                              1104\n",
       "clear_fraction                                                    0.0\n",
       "mean_temperature                                            25.586514\n",
       "Tmin                                                        24.949999\n",
       "Tmax                                                        26.219999\n",
       "T90                                                         25.939999\n",
       "T10                                                         25.264999\n",
       "filename                         AQUA_MODIS.20090605T033007.L2.SST.nc\n",
       "UID                                               1244101418315492303\n",
       "pp_file             s3://modis-l2/PreProc/MODIS_R2019_2009_95clear...\n",
       "pp_root                                                      standard\n",
       "field_size                                                        128\n",
       "pp_type                                                             0\n",
       "pp_idx                                                         371246\n",
       "U0                                                           -1.60083\n",
       "U1                                                           4.399734\n",
       "zonal_slope                                                 -1.927331\n",
       "merid_slope                                                 -1.419379\n",
       "zonal_slope_err                                              0.127299\n",
       "merid_slope_err                                              0.197766\n",
       "ulmo_pp_type                                                        0\n",
       "DT40                                                         0.533874\n",
       "ulmo_pp_idx                                                    371246\n",
       "ulmo_pp_file        s3://modis-l2/PreProc/MODIS_R2019_2009_95clear...\n",
       "US0                                                         -0.253378\n",
       "US1                                                          0.387113\n",
       "DT                                                           0.674999\n",
       "s21                                                          0.150099\n",
       "s22                                                           2.45222\n",
       "Name: 2886898, dtype: object"
      ]
     },
     "execution_count": 56,
     "metadata": {},
     "output_type": "execute_result"
    }
   ],
   "source": [
    "cutout_max"
   ]
  },
  {
   "cell_type": "markdown",
   "id": "fb8ce824-5e6d-40f7-badb-4c550f839115",
   "metadata": {},
   "source": [
    "# Highest $s_{21}$"
   ]
  },
  {
   "cell_type": "code",
   "execution_count": 57,
   "id": "5b7367fd-6608-4b0b-bde1-de46aa38d2d0",
   "metadata": {
    "tags": []
   },
   "outputs": [
    {
     "data": {
      "text/plain": [
       "lat                                                         40.984432\n",
       "lon                                                         -68.82039\n",
       "col                                                               933\n",
       "datetime                                          2009-03-22 07:00:00\n",
       "LL                                                        -535.192932\n",
       "row                                                               528\n",
       "clear_fraction                                               0.021301\n",
       "mean_temperature                                             4.819343\n",
       "Tmin                                                            3.975\n",
       "Tmax                                                           14.565\n",
       "T90                                                              5.07\n",
       "T10                                                             4.365\n",
       "filename                         AQUA_MODIS.20090322T070007.L2.SST.nc\n",
       "UID                                               1237130984411117961\n",
       "pp_file             s3://modis-l2/PreProc/MODIS_R2019_2009_95clear...\n",
       "pp_root                                                      standard\n",
       "field_size                                                        128\n",
       "pp_type                                                             0\n",
       "pp_idx                                                         473229\n",
       "U0                                                           0.543859\n",
       "U1                                                           3.922637\n",
       "zonal_slope                                                 -1.772541\n",
       "merid_slope                                                 -2.064661\n",
       "zonal_slope_err                                              0.067314\n",
       "merid_slope_err                                              0.118159\n",
       "ulmo_pp_type                                                        0\n",
       "DT40                                                            0.534\n",
       "ulmo_pp_idx                                                    473229\n",
       "ulmo_pp_file        s3://modis-l2/PreProc/MODIS_R2019_2009_95clear...\n",
       "US0                                                          0.265911\n",
       "US1                                                          2.112876\n",
       "DT                                                              0.705\n",
       "s21                                                          0.322072\n",
       "s22                                                          1.255003\n",
       "Name: 2947042, dtype: object"
      ]
     },
     "execution_count": 57,
     "metadata": {},
     "output_type": "execute_result"
    }
   ],
   "source": [
    "ihigh_s21 = np.argmax(modis_cut.s21)\n",
    "c_high_s21 = modis_cut.iloc[ihigh_s21]\n",
    "c_high_s21"
   ]
  },
  {
   "cell_type": "code",
   "execution_count": 58,
   "id": "630b3aad-53a5-4fc8-996b-7c2fedaaa562",
   "metadata": {
    "tags": []
   },
   "outputs": [
    {
     "data": {
      "text/plain": [
       "<Axes: >"
      ]
     },
     "execution_count": 58,
     "metadata": {},
     "output_type": "execute_result"
    },
    {
     "data": {
      "image/png": "[encoded data removed]",
      "text/plain": [
       "<Figure size 640x480 with 2 Axes>"
      ]
     },
     "metadata": {},
     "output_type": "display_data"
    }
   ],
   "source": [
    "img = f_imgs['valid'][c_high_s21.pp_idx,0,...]\n",
    "plotting.show_image(img)"
   ]
  },
  {
   "cell_type": "markdown",
   "id": "46897b71-bacc-4472-92f2-ad00e50e63a7",
   "metadata": {},
   "source": [
    "# Highest $s_{22}$"
   ]
  },
  {
   "cell_type": "code",
   "execution_count": 59,
   "id": "6edcd802-e661-4fc8-a80c-6eca92ff1fd6",
   "metadata": {
    "tags": []
   },
   "outputs": [
    {
     "data": {
      "text/plain": [
       "lat                                                        -39.847977\n",
       "lon                                                        -58.325397\n",
       "col                                                               773\n",
       "datetime                                          2009-10-13 05:10:00\n",
       "LL                                                         498.057861\n",
       "row                                                               784\n",
       "clear_fraction                                                0.00116\n",
       "mean_temperature                                             9.662296\n",
       "Tmin                                                             8.57\n",
       "Tmax                                                           11.465\n",
       "T90                                                            10.355\n",
       "T10                                                             9.035\n",
       "filename                         AQUA_MODIS.20091013T051007.L2.SST.nc\n",
       "UID                                                125550152012167460\n",
       "pp_file             s3://modis-l2/PreProc/MODIS_R2019_2009_95clear...\n",
       "pp_root                                                      standard\n",
       "field_size                                                        128\n",
       "pp_type                                                             0\n",
       "pp_idx                                                         201089\n",
       "U0                                                           -2.66728\n",
       "U1                                                           0.586154\n",
       "zonal_slope                                                  -2.05707\n",
       "merid_slope                                                 -2.342281\n",
       "zonal_slope_err                                              0.204695\n",
       "merid_slope_err                                               0.26348\n",
       "ulmo_pp_type                                                        0\n",
       "DT40                                                         0.850375\n",
       "ulmo_pp_idx                                                    201089\n",
       "ulmo_pp_file        s3://modis-l2/PreProc/MODIS_R2019_2009_95clear...\n",
       "US0                                                          0.204996\n",
       "US1                                                          1.234607\n",
       "DT                                                               1.32\n",
       "s21                                                          0.182393\n",
       "s22                                                          3.326732\n",
       "Name: 2786424, dtype: object"
      ]
     },
     "execution_count": 59,
     "metadata": {},
     "output_type": "execute_result"
    }
   ],
   "source": [
    "ihigh_s22 = np.argmax(modis_cut.s22)\n",
    "c_high_s22 = modis_cut.iloc[ihigh_s22]\n",
    "c_high_s22"
   ]
  },
  {
   "cell_type": "code",
   "execution_count": 60,
   "id": "e642f350-128c-4363-990d-df2ef013c129",
   "metadata": {
    "tags": []
   },
   "outputs": [
    {
     "data": {
      "text/plain": [
       "<Axes: >"
      ]
     },
     "execution_count": 60,
     "metadata": {},
     "output_type": "execute_result"
    },
    {
     "data": {
      "image/png": "[encoded data removed]",
      "text/plain": [
       "<Figure size 640x480 with 2 Axes>"
      ]
     },
     "metadata": {},
     "output_type": "display_data"
    }
   ],
   "source": [
    "img = f_imgs['valid'][c_high_s22.pp_idx,0,...]\n",
    "plotting.show_image(img)"
   ]
  },
  {
   "cell_type": "markdown",
   "id": "e51e9a01-6cf7-4ed9-a595-93f9201a2152",
   "metadata": {},
   "source": [
    "# Lowest $s_{22}$"
   ]
  },
  {
   "cell_type": "code",
   "execution_count": 61,
   "id": "174d7436-104d-42bd-b353-345587adb062",
   "metadata": {
    "tags": []
   },
   "outputs": [
    {
     "data": {
      "text/plain": [
       "lat                                                        -31.754902\n",
       "lon                                                         -132.1169\n",
       "col                                                               357\n",
       "datetime                                          2009-02-01 09:55:00\n",
       "LL                                                         -48.674988\n",
       "row                                                               176\n",
       "clear_fraction                                                0.03949\n",
       "mean_temperature                                            22.241764\n",
       "Tmin                                                           19.475\n",
       "Tmax                                                           23.545\n",
       "T90                                                            22.635\n",
       "T10                                                            21.855\n",
       "filename                         AQUA_MODIS.20090201T095508.L2.SST.nc\n",
       "UID                                                 12335824514788310\n",
       "pp_file             s3://modis-l2/PreProc/MODIS_R2019_2009_95clear...\n",
       "pp_root                                                      standard\n",
       "field_size                                                        128\n",
       "pp_type                                                             0\n",
       "pp_idx                                                          88912\n",
       "U0                                                           2.618521\n",
       "U1                                                           3.256437\n",
       "zonal_slope                                                  -0.95439\n",
       "merid_slope                                                 -1.126053\n",
       "zonal_slope_err                                              0.205452\n",
       "merid_slope_err                                              0.184466\n",
       "ulmo_pp_type                                                        0\n",
       "DT40                                                         0.605251\n",
       "ulmo_pp_idx                                                     88912\n",
       "ulmo_pp_file        s3://modis-l2/PreProc/MODIS_R2019_2009_95clear...\n",
       "US0                                                         10.284669\n",
       "US1                                                          0.436617\n",
       "DT                                                           0.780001\n",
       "s21                                                          0.131801\n",
       "s22                                                          0.930737\n",
       "Name: 2720340, dtype: object"
      ]
     },
     "execution_count": 61,
     "metadata": {},
     "output_type": "execute_result"
    }
   ],
   "source": [
    "ilow_s22 = np.argmin(modis_cut.s22)\n",
    "c_low_s22 = modis_cut.iloc[ilow_s22]\n",
    "c_low_s22"
   ]
  },
  {
   "cell_type": "code",
   "execution_count": 62,
   "id": "4972de14-ada6-4024-9653-0f0bac35ed5b",
   "metadata": {
    "tags": []
   },
   "outputs": [
    {
     "data": {
      "text/plain": [
       "<Axes: >"
      ]
     },
     "execution_count": 62,
     "metadata": {},
     "output_type": "execute_result"
    },
    {
     "data": {
      "image/png": "[encoded data removed]",
      "text/plain": [
       "<Figure size 640x480 with 2 Axes>"
      ]
     },
     "metadata": {},
     "output_type": "display_data"
    }
   ],
   "source": [
    "img = f_imgs['valid'][c_low_s22.pp_idx,0,...]\n",
    "plotting.show_image(img)"
   ]
  },
  {
   "cell_type": "code",
   "execution_count": null,
   "id": "b5ae7c38-71f4-443d-87e5-b535fc753200",
   "metadata": {},
   "outputs": [],
   "source": []
  }
 ],
 "metadata": {
  "kernelspec": {
   "display_name": "Python 3 (ipykernel)",
   "language": "python",
   "name": "python3"
  },
  "language_info": {
   "codemirror_mode": {
    "name": "ipython",
    "version": 3
   },
   "file_extension": ".py",
   "mimetype": "text/x-python",
   "name": "python",
   "nbconvert_exporter": "python",
   "pygments_lexer": "ipython3",
   "version": "3.10.9"
  }
 },
 "nbformat": 4,
 "nbformat_minor": 5
}
