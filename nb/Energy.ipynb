{
 "cells": [
  {
   "cell_type": "markdown",
   "id": "0dd24ec8-da76-4e61-9ad7-0f60cd0f63a1",
   "metadata": {},
   "source": [
    "# Energy Residual"
   ]
  },
  {
   "cell_type": "code",
   "execution_count": 1,
   "id": "1a5f395a-cb0f-4154-89f2-d10b4116d270",
   "metadata": {
    "tags": []
   },
   "outputs": [
    {
     "name": "stdout",
     "output_type": "stream",
     "text": [
      "use torch backend\n"
     ]
    }
   ],
   "source": [
    "# imports\n",
    "from importlib import reload\n",
    "import sys\n",
    "import h5py\n",
    "import os\n",
    "import numpy as np\n",
    "\n",
    "import pandas\n",
    "import seaborn as sns\n",
    "\n",
    "#\n",
    "from ulmo import io as ulmo_io\n",
    "from ulmo.plotting import plotting\n",
    "\n",
    "sys.path.append('../')\n",
    "import scattering"
   ]
  },
  {
   "cell_type": "markdown",
   "id": "20c7d497-278a-4ec0-a667-3a5acbdf499e",
   "metadata": {},
   "source": [
    "# Load coeffs "
   ]
  },
  {
   "cell_type": "code",
   "execution_count": 2,
   "id": "ce920639-4f3f-416b-a5c4-4ec184035e32",
   "metadata": {
    "tags": []
   },
   "outputs": [
    {
     "data": {
      "text/plain": [
       "<module 'scattering' from '/home/xavier/Projects/Oceanography/python/scattering_transform/nb/../scattering/__init__.py'>"
      ]
     },
     "execution_count": 2,
     "metadata": {},
     "output_type": "execute_result"
    }
   ],
   "source": [
    "reload(scattering)"
   ]
  },
  {
   "cell_type": "code",
   "execution_count": 3,
   "id": "df34df2d-6e5d-4b5a-acdb-66c8b2ddce25",
   "metadata": {
    "tags": []
   },
   "outputs": [],
   "source": [
    "st_coeff_file = os.path.join(os.getenv('OS_SST'), 'MODIS_L2', 'Scattering',\n",
    "                             'MODIS_2009_ST_coeff.h5')\n",
    "coeffs = scattering.io.load_coeffs(st_coeff_file)"
   ]
  },
  {
   "cell_type": "code",
   "execution_count": 5,
   "id": "36de4f9a-fdbf-4f5b-9ad7-5d3350a6f3cd",
   "metadata": {
    "tags": []
   },
   "outputs": [
    {
     "data": {
      "text/plain": [
       "array([[0.03174578, 0.03722532, 0.03236119, 0.03352261],\n",
       "       [0.04713404, 0.05344172, 0.0487891 , 0.04955122],\n",
       "       [0.07419916, 0.08934334, 0.07693938, 0.0784678 ],\n",
       "       [0.09499089, 0.15599151, 0.11154896, 0.11135306],\n",
       "       [0.11804842, 0.25389898, 0.13862363, 0.143655  ]], dtype=float32)"
      ]
     },
     "execution_count": 5,
     "metadata": {},
     "output_type": "execute_result"
    }
   ],
   "source": [
    "coeffs['S1'][0,...]"
   ]
  },
  {
   "cell_type": "code",
   "execution_count": 6,
   "id": "459141a9-2dbc-4539-b1d6-88742c4f26d9",
   "metadata": {
    "tags": []
   },
   "outputs": [
    {
     "data": {
      "text/plain": [
       "array([0.03371372, 0.04972902, 0.07973742, 0.11847111, 0.1635565 ],\n",
       "      dtype=float32)"
      ]
     },
     "execution_count": 6,
     "metadata": {},
     "output_type": "execute_result"
    }
   ],
   "source": [
    "coeffs['S1_iso'][0,...]"
   ]
  },
  {
   "cell_type": "markdown",
   "id": "8e756a92-92e5-4a1e-bd3a-64549bddb15c",
   "metadata": {},
   "source": [
    "# Residual"
   ]
  },
  {
   "cell_type": "code",
   "execution_count": 7,
   "id": "4dd7b9da-cd37-4edb-8213-5c8974ee0337",
   "metadata": {
    "tags": []
   },
   "outputs": [
    {
     "name": "stderr",
     "output_type": "stream",
     "text": [
      "/tmp/ipykernel_2986422/1288802361.py:1: RuntimeWarning: Mean of empty slice\n",
      "  S2_isoiso = np.nanmean(coeffs['S2_iso'], axis=(-1))\n"
     ]
    },
    {
     "data": {
      "text/plain": [
       "(757592, 5, 5)"
      ]
     },
     "execution_count": 7,
     "metadata": {},
     "output_type": "execute_result"
    }
   ],
   "source": [
    "S2_isoiso = np.nanmean(coeffs['S2_iso'], axis=(-1))\n",
    "S2_isoiso.shape"
   ]
  },
  {
   "cell_type": "code",
   "execution_count": 8,
   "id": "34025bf2-e1c0-4ffc-8a53-b28144258e67",
   "metadata": {
    "tags": []
   },
   "outputs": [
    {
     "data": {
      "text/plain": [
       "0.4418655729965523"
      ]
     },
     "execution_count": 8,
     "metadata": {},
     "output_type": "execute_result"
    }
   ],
   "source": [
    "E_resid = coeffs['I02'][0] - np.sum(coeffs['S1_iso'][0,:]**2) - np.nansum(S2_isoiso[0,...]**2)\n",
    "E_resid"
   ]
  },
  {
   "cell_type": "code",
   "execution_count": 9,
   "id": "151e4934-3f57-4369-a6a6-41a9637f78fd",
   "metadata": {
    "tags": []
   },
   "outputs": [
    {
     "data": {
      "text/plain": [
       "(0.49486858, 0.05075378, 0.0022492312713309594)"
      ]
     },
     "execution_count": 9,
     "metadata": {},
     "output_type": "execute_result"
    }
   ],
   "source": [
    "coeffs['I02'][0], np.sum(coeffs['S1_iso'][0,:]**2), np.nansum(S2_isoiso[0,...]**2)\n"
   ]
  },
  {
   "cell_type": "code",
   "execution_count": null,
   "id": "df996568-83f1-4e42-b96f-556b8aac25de",
   "metadata": {},
   "outputs": [],
   "source": []
  }
 ],
 "metadata": {
  "kernelspec": {
   "display_name": "Python 3 (ipykernel)",
   "language": "python",
   "name": "python3"
  },
  "language_info": {
   "codemirror_mode": {
    "name": "ipython",
    "version": 3
   },
   "file_extension": ".py",
   "mimetype": "text/x-python",
   "name": "python",
   "nbconvert_exporter": "python",
   "pygments_lexer": "ipython3",
   "version": "3.10.9"
  }
 },
 "nbformat": 4,
 "nbformat_minor": 5
}
