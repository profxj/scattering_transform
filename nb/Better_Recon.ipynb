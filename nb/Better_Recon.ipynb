{
 "cells": [
  {
   "cell_type": "markdown",
   "id": "cd8fc5e6-bdd1-4c49-aade-7c6e46d736f0",
   "metadata": {},
   "source": [
    "# Better Reconstructions"
   ]
  },
  {
   "cell_type": "code",
   "execution_count": 1,
   "id": "9e873e42-6d49-4da9-8ebc-027f42decd73",
   "metadata": {
    "tags": []
   },
   "outputs": [
    {
     "name": "stdout",
     "output_type": "stream",
     "text": [
      "use torch backend\n"
     ]
    }
   ],
   "source": [
    "%matplotlib inline\n",
    "import numpy as np\n",
    "import os\n",
    "import matplotlib.pyplot as plt\n",
    "import torch\n",
    "import torch.fft\n",
    "\n",
    "import sys\n",
    "sys.path.append('/home/xavier/Projects/Oceanography/python/scattering_transform')\n",
    "\n",
    "import scattering\n",
    "import h5py \n",
    "\n",
    "from ulmo.plotting import plotting"
   ]
  },
  {
   "cell_type": "markdown",
   "id": "f266a5cf-01b4-4754-9b3f-2e0409ba314d",
   "metadata": {},
   "source": [
    "# Images"
   ]
  },
  {
   "cell_type": "code",
   "execution_count": 2,
   "id": "efb14aaf-19aa-45c5-b9d8-c94f8436c8be",
   "metadata": {
    "tags": []
   },
   "outputs": [],
   "source": [
    "feature_path = os.path.join(os.getenv('OS_SST'), 'MODIS_L2', 'PreProc',\n",
    "                           'MODIS_R2019_2003_95clear_128x128_preproc_std.h5')"
   ]
  },
  {
   "cell_type": "code",
   "execution_count": 3,
   "id": "d4b9379d-0839-4259-b851-ec4c078f726e",
   "metadata": {
    "tags": []
   },
   "outputs": [],
   "source": [
    "features = h5py.File(feature_path, 'r')['valid']"
   ]
  },
  {
   "cell_type": "code",
   "execution_count": 4,
   "id": "779da9b5-4cc4-4e7c-9361-68bdf6ef49f9",
   "metadata": {
    "tags": []
   },
   "outputs": [],
   "source": [
    "np.random.seed(0)\n",
    "num_samples = features.shape[0]\n",
    "sampled_id = np.sort(np.random.randint(0, num_samples, 10))\n",
    "sampled_features = np.squeeze(features[sampled_id], axis=1)"
   ]
  },
  {
   "cell_type": "markdown",
   "id": "26159de4-c363-4efa-8787-76c271eec274",
   "metadata": {},
   "source": [
    "## Plot"
   ]
  },
  {
   "cell_type": "code",
   "execution_count": 5,
   "id": "ed7617b5-570a-4281-9d2a-8870f0b236b9",
   "metadata": {
    "tags": []
   },
   "outputs": [
    {
     "data": {
      "text/plain": [
       "(1, 64, 64)"
      ]
     },
     "execution_count": 5,
     "metadata": {},
     "output_type": "execute_result"
    }
   ],
   "source": [
    "image1 = sampled_features[0:1]\n",
    "image1.shape"
   ]
  },
  {
   "cell_type": "code",
   "execution_count": 6,
   "id": "5000b6c8-327a-45d2-a609-3b45dd0b54f2",
   "metadata": {
    "tags": []
   },
   "outputs": [
    {
     "data": {
      "text/plain": [
       "<Axes: >"
      ]
     },
     "execution_count": 6,
     "metadata": {},
     "output_type": "execute_result"
    },
    {
     "data": {
      "image/png": "[encoded data removed]",
      "text/plain": [
       "<Figure size 640x480 with 2 Axes>"
      ]
     },
     "metadata": {},
     "output_type": "display_data"
    }
   ],
   "source": [
    "plotting.show_image(image1[0,...])"
   ]
  },
  {
   "cell_type": "markdown",
   "id": "63134fc0-80cd-47ca-8ebd-0b60a826b5a5",
   "metadata": {},
   "source": [
    "# Scattering"
   ]
  },
  {
   "cell_type": "code",
   "execution_count": null,
   "id": "51508894-f731-477c-947f-0c419318e507",
   "metadata": {},
   "outputs": [],
   "source": [
    "## "
   ]
  },
  {
   "cell_type": "code",
   "execution_count": null,
   "id": "e71b1de6-9f01-4e6b-bdc9-2c02a2c1d95a",
   "metadata": {
    "tags": []
   },
   "outputs": [
    {
     "name": "stdout",
     "output_type": "stream",
     "text": [
      "input_size:  (1, 64, 64)\n",
      "# of estimators:  5001\n",
      "max residual:  5.9546432 , mean residual:  0.035511874\n"
     ]
    }
   ],
   "source": [
    "# load image\n",
    "image_target = image_input = sampled_features[0:1]\n",
    "\n",
    "\n",
    "# synthesize\n",
    "image_syn = scattering.synthesis('s_cov', image_target, seed=0)\n",
    "\n",
    "# show\n",
    "scattering.show(image_target, image_syn, (-5, 5))"
   ]
  },
  {
   "cell_type": "code",
   "execution_count": null,
   "id": "1ad47726-f427-4584-9bdb-2d480007fa62",
   "metadata": {},
   "outputs": [],
   "source": []
  }
 ],
 "metadata": {
  "kernelspec": {
   "display_name": "Python 3 (ipykernel)",
   "language": "python",
   "name": "python3"
  },
  "language_info": {
   "codemirror_mode": {
    "name": "ipython",
    "version": 3
   },
   "file_extension": ".py",
   "mimetype": "text/x-python",
   "name": "python",
   "nbconvert_exporter": "python",
   "pygments_lexer": "ipython3",
   "version": "3.10.9"
  }
 },
 "nbformat": 4,
 "nbformat_minor": 5
}
