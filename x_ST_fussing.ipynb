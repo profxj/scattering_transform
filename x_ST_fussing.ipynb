{
 "cells": [
  {
   "cell_type": "markdown",
   "metadata": {
    "colab_type": "text",
    "id": "view-in-github"
   },
   "source": [
    "<a href=\"https://colab.research.google.com/github/SihaoCheng/scattering_transform/blob/master/ST_image_synthesis.ipynb\" target=\"_parent\"><img src=\"https://colab.research.google.com/assets/colab-badge.svg\" alt=\"Open In Colab\"/></a>"
   ]
  },
  {
   "cell_type": "code",
   "execution_count": 15,
   "metadata": {
    "colab": {
     "base_uri": "https://localhost:8080/"
    },
    "id": "JZVVDtA1eGBU",
    "outputId": "e4a88d71-cc35-41c0-ef8e-c9e9b26490b1"
   },
   "outputs": [],
   "source": [
    "%matplotlib inline\n",
    "# import packages\n",
    "from importlib import reload\n",
    "import numpy as np\n",
    "import matplotlib.pyplot as plt\n",
    "import torch\n",
    "import time\n",
    "\n",
    "import h5py\n",
    "\n",
    "# mount google drive\n",
    "#from google.colab import drive\n",
    "#drive.mount('/content/drive', force_remount=True)\n",
    "\n",
    "# import ST module\n",
    "import sys\n",
    "sys.path.append('/content/drive/MyDrive/Colab Notebooks')\n",
    "import ST\n",
    "\n",
    "# set default saving directory\n",
    "save_dir = 'drive/My Drive/Colab Notebooks/'"
   ]
  },
  {
   "cell_type": "markdown",
   "metadata": {
    "id": "7aJZwskOK6FI"
   },
   "source": [
    "# Define function of image synthesis"
   ]
  },
  {
   "cell_type": "code",
   "execution_count": 3,
   "metadata": {
    "id": "5CPtmSuq-lWL"
   },
   "outputs": [],
   "source": [
    "def image_synthesis(image, J, L, num_pixel,\n",
    "                    learnable_param_list = [(100, 1e-3)],\n",
    "                    savedir = '',\n",
    "                    device='cpu',\n",
    "                    coef = 'ST',\n",
    "                    random_seed = 987,\n",
    "                    low_bound = -0.010):\n",
    "\n",
    "    torch.manual_seed(random_seed)\n",
    "    np.random.seed(random_seed)\n",
    "\n",
    "    image = image[:num_pixel, :num_pixel]\n",
    "    image_torch = torch.from_numpy(image).type(torch.FloatTensor) + 5\n",
    "    if device=='gpu':\n",
    "        image_torch = image_torch.cuda()\n",
    "    \n",
    "    target_bi = bispectrum_calculator.forward(image_torch)\n",
    "    target_ST = ST_calculator.forward(image_torch[None,:,:], J, L)[0][0]\n",
    "    target_ST = target_ST[target_ST!=0].log()\n",
    "    target_PS, _ = ST.get_power_spectrum(image_torch, 20, device)\n",
    "    target_PS = target_PS.log()\n",
    "\n",
    "#-------------------------------------------------------------------------------\n",
    "    # define mock image\n",
    "    class model_image(torch.nn.Module):\n",
    "        def __init__(self):\n",
    "            super(model_image, self).__init__()\n",
    "\n",
    "            # initialize with GRF of same PS as target image\n",
    "            image_to_train = torch.from_numpy(\n",
    "                ST.get_random_data(image, num_pixel, num_pixel, \"image\").reshape(1,-1)*1\n",
    "            ).type(torch.FloatTensor) + 5 + 0.000\n",
    "            if device=='gpu':\n",
    "                image_to_train = image_to_train.cuda()\n",
    "            self.param = torch.nn.Parameter( image_to_train )\n",
    "#-------------------------------------------------------------------------------\n",
    "    model_fit = model_image()\n",
    "\n",
    "    # define learnable\n",
    "    for learnable_group in range(len(learnable_param_list)):\n",
    "        num_step = learnable_param_list[learnable_group][0]\n",
    "        learning_rate = learnable_param_list[learnable_group][1]\n",
    "        \n",
    "        # optimizer = torch.optim.Adam(model_fit.parameters(), lr=learning_rate)\n",
    "#         optimizer = torch.optim.SGD(model_fit.parameters(), lr=learning_rate)\n",
    "        optimizer = torch.optim.Adamax(model_fit.parameters(), lr=learning_rate)\n",
    "\n",
    "        # optimize\n",
    "        for i in range(int(num_step)):\n",
    "            # loss: power spectrum\n",
    "            PS, _ = ST.get_power_spectrum(model_fit.param.reshape(num_pixel,num_pixel), 20, device)\n",
    "            PS = PS.log()\n",
    "            loss_PS = ((target_PS - PS)**2).sum()\n",
    "            # loss: L1\n",
    "            target_L1 = (image_torch-5).abs().mean() \n",
    "            loss_L1 = (\n",
    "                ((model_fit.param-5).abs().mean() - target_L1) / target_L1 \n",
    "            )**2*1e6\n",
    "            # loss: mean\n",
    "            loss_mean = (\n",
    "                model_fit.param.reshape(1,num_pixel,num_pixel).mean() - \n",
    "                image_torch.mean()\n",
    "            )**2*1e7\n",
    "            # loss: bound\n",
    "            loss_bound = torch.exp(\n",
    "                (5 + low_bound - model_fit.param.reshape(1,num_pixel,num_pixel))/0.003\n",
    "            ).mean()\n",
    "\n",
    "            if coef=='bi':\n",
    "                bi = bispectrum_calculator.forward(\n",
    "                    model_fit.param.reshape(num_pixel,num_pixel)\n",
    "                )\n",
    "                loss_bi = ((target_bi - bi)**2).sum()\n",
    "                loss = loss_bi + loss_bound + loss_mean + loss_L1\n",
    "\n",
    "            if coef=='bi+P':\n",
    "                bi = bispectrum_calculator.forward(\n",
    "                    model_fit.param.reshape(num_pixel,num_pixel)\n",
    "                )\n",
    "                loss_bi = ((target_bi - bi)**2).sum()\n",
    "                loss = loss_bi + loss_bound + loss_mean + loss_L1 + loss_PS\n",
    "                \n",
    "            elif coef=='ST':\n",
    "                ST_coef = ST_calculator.forward(\n",
    "                    model_fit.param.reshape(1,num_pixel,num_pixel), J, L,\n",
    "                  )[0][0]\n",
    "                ST_coef = ST_coef[ST_coef!=0].log()\n",
    "                loss_ST = ((target_ST - ST_coef)**2).sum()*1000\n",
    "                loss = loss_ST + loss_bound + loss_mean + loss_L1\n",
    "            else:\n",
    "                loss = loss_bound + loss_mean + loss_L1\n",
    "                \n",
    "            if i%100== 0:\n",
    "                # save map\n",
    "                # np.save(savedir + 'synthesis_results_step=' + str(i) + '.npy', \n",
    "                #         model_fit.param.reshape(1,num_pixel,num_pixel).cpu().detach().numpy()-5)\n",
    "                # np.save(savedir +'synthesis_results_final.npy', \n",
    "                #         model_fit.param.reshape(1,num_pixel,num_pixel).cpu().detach().numpy()-5)\n",
    "                print(i)\n",
    "                print('loss: ',loss)\n",
    "                print('loss_mean: ',loss_mean)\n",
    "                print('loss_bound: ',loss_bound)\n",
    "                print('loss_L1: ',loss_L1)\n",
    "                if coef=='bi' or coef=='bi+P':\n",
    "                    print('loss_bi: ',loss_bi)\n",
    "                if coef=='bi+P':\n",
    "                    print('loss_PS: ',loss_PS)\n",
    "                if coef=='ST':\n",
    "                    print('loss_ST: ',loss_ST)\n",
    "\n",
    "            optimizer.zero_grad();\n",
    "            loss.backward();\n",
    "            optimizer.step();\n",
    "\n",
    "    return model_fit.param.reshape(1,num_pixel,num_pixel).cpu().detach().numpy()-5"
   ]
  },
  {
   "cell_type": "markdown",
   "metadata": {
    "id": "Bln4hCizB9D0"
   },
   "source": [
    "# Load data & Create calculators"
   ]
  },
  {
   "cell_type": "markdown",
   "metadata": {
    "id": "lZI9rzTwTMkx"
   },
   "source": [
    "# Load target image"
   ]
  },
  {
   "cell_type": "code",
   "execution_count": 7,
   "metadata": {},
   "outputs": [],
   "source": [
    "viirs_allclear = '/home/xavier/Projects/Oceanography/SST/VIIRS/PreProc/VIIRS_all_100clear_preproc.h5'\n",
    "viirs = h5py.File(viirs_allclear, 'r')\n",
    "viirs['valid'].shape\n",
    "#\n",
    "image = viirs['valid'][1010,0,...]"
   ]
  },
  {
   "cell_type": "code",
   "execution_count": 10,
   "metadata": {
    "colab": {
     "base_uri": "https://localhost:8080/",
     "height": 225
    },
    "id": "FUH_9Srp0JaG",
    "outputId": "6cc4cca0-ee5f-451c-988e-842c23695831"
   },
   "outputs": [
    {
     "data": {
      "image/png": "[encoded data removed]",
      "text/plain": [
       "<Figure size 432x288 with 2 Axes>"
      ]
     },
     "metadata": {
      "needs_background": "light"
     },
     "output_type": "display_data"
    }
   ],
   "source": [
    "# load target image\n",
    "\n",
    "#save_dir = 'drive/My Drive/Colab Notebooks/'\n",
    "save_dir = '/home/xavier/Projects/Oceanography/ST/'\n",
    "\n",
    "M = 64\n",
    "N = M\n",
    "#image = np.load('drive/My Drive/Colab Notebooks/H51_9.npy')[:M,:N]\n",
    "\n",
    "\n",
    "plt.subplot(121)\n",
    "plt.imshow(image)#, vmin=-0.03, vmax=0.1)\n",
    "plt.subplot(122)\n",
    "np.random.seed(989)\n",
    "plt.imshow(ST.get_random_data(image, M, N, mode='image'))#, vmin=-0.04, vmax=0.1)\n",
    "plt.show()"
   ]
  },
  {
   "cell_type": "markdown",
   "metadata": {
    "id": "yV1xf6szFItf"
   },
   "source": [
    "# CPU / GPU"
   ]
  },
  {
   "cell_type": "code",
   "execution_count": 12,
   "metadata": {
    "id": "rbJyICysE6GQ"
   },
   "outputs": [],
   "source": [
    "#device = 'gpu'\n",
    "device = 'cpu'"
   ]
  },
  {
   "cell_type": "markdown",
   "metadata": {
    "id": "f_Tg1ZeqNii1"
   },
   "source": [
    "# Generate wavelet filter bank"
   ]
  },
  {
   "cell_type": "code",
   "execution_count": 13,
   "metadata": {
    "id": "Bazp7jQKYKq8"
   },
   "outputs": [],
   "source": [
    "J = 7\n",
    "L = 8\n",
    "filters_set = ST.FiltersSet(M=M, N=N, J=J, L=L).generate_morlet(\n",
    "    if_save=False, save_dir=None, precision='single'\n",
    ")"
   ]
  },
  {
   "cell_type": "markdown",
   "metadata": {
    "id": "zsGY3JHVN327"
   },
   "source": [
    "# Create an ST calculator"
   ]
  },
  {
   "cell_type": "code",
   "execution_count": 16,
   "metadata": {
    "colab": {
     "base_uri": "https://localhost:8080/"
    },
    "id": "_cVbq26QB5G0",
    "outputId": "25a48a7f-c231-49a3-a443-3a590fc6d9ca"
   },
   "outputs": [
    {
     "name": "stdout",
     "output_type": "stream",
     "text": [
      " 0.0488 s\n"
     ]
    }
   ],
   "source": [
    "reload(ST)\n",
    "ST_calculator = ST.ST_2D(filters_set, J, L, device=device)\n",
    "image_torch = torch.from_numpy(image)[None,:,:]\n",
    "if device=='gpu':\n",
    "  image_torch = image_torch.cuda()\n",
    "\n",
    "torch.set_num_threads(2) \n",
    "start = time.time()\n",
    "S = ST_calculator.forward(image_torch, J, L)[0]\n",
    "print('% .4f s' % (time.time() - start))"
   ]
  },
  {
   "cell_type": "markdown",
   "metadata": {
    "id": "_lh9MU1HQpRL"
   },
   "source": [
    "# Create a bispectrum calculator "
   ]
  },
  {
   "cell_type": "code",
   "execution_count": 17,
   "metadata": {
    "colab": {
     "base_uri": "https://localhost:8080/"
    },
    "id": "HacwC5r1p749",
    "outputId": "42e81e14-19b5-4229-e9c9-b220b92612dd"
   },
   "outputs": [
    {
     "name": "stdout",
     "output_type": "stream",
     "text": [
      " 0.0061 s\n"
     ]
    }
   ],
   "source": [
    "bin_edges = np.linspace(150/(360/3.5), M/2*1.4, 7) # in unit of pixel in Fourier space\n",
    "\n",
    "bispectrum_calculator = ST.Bispectrum_Calculator(bin_edges, M, N, device=device)\n",
    "image_torch = torch.from_numpy(image)\n",
    "if device=='gpu':\n",
    "  image_torch = image_torch.cuda()\n",
    "\n",
    "torch.set_num_threads(1) \n",
    "start = time.time()\n",
    "B = bispectrum_calculator.forward(image_torch)\n",
    "print('% .4f s' % (time.time() - start))"
   ]
  },
  {
   "cell_type": "code",
   "execution_count": 18,
   "metadata": {
    "colab": {
     "base_uri": "https://localhost:8080/"
    },
    "id": "eTDryZ_vzkUt",
    "outputId": "d5984693-ca5d-44a3-ab82-3080748e7d41"
   },
   "outputs": [
    {
     "data": {
      "text/plain": [
       "tensor([[-1.8100e+04, -1.0074e+03, -3.0424e+02, -2.4701e+02,  4.4714e+02,\n",
       "         -4.5163e+01, -5.7159e+00, -9.7017e+00,  6.1572e+01,  2.4691e+02,\n",
       "         -1.0540e+02,  3.5884e+01,  8.3437e+00, -2.1334e+01, -1.2020e-02,\n",
       "         -2.2142e+01, -7.3099e+00, -6.4373e+01, -3.1478e+01, -1.8993e+01,\n",
       "         -1.0383e+01,  8.7807e+00, -4.7717e+00, -1.3263e+01, -6.7219e+00,\n",
       "          5.4765e+00, -4.0062e-02, -2.1820e+00,  9.2100e+00, -8.3058e+00,\n",
       "          9.0936e-01, -4.9271e-02,  3.5527e-07, -1.9429e-08],\n",
       "        [-1.8100e+04, -1.0074e+03, -3.0424e+02, -2.4701e+02,  4.4714e+02,\n",
       "         -4.5163e+01, -5.7159e+00, -9.7017e+00,  6.1572e+01,  2.4691e+02,\n",
       "         -1.0540e+02,  3.5884e+01,  8.3437e+00, -2.1334e+01, -1.2020e-02,\n",
       "         -2.2142e+01, -7.3099e+00, -6.4373e+01, -3.1478e+01, -1.8993e+01,\n",
       "         -1.0383e+01,  8.7807e+00, -4.7717e+00, -1.3263e+01, -6.7219e+00,\n",
       "          5.4765e+00, -4.0062e-02, -2.1820e+00,  9.2100e+00, -8.3058e+00,\n",
       "          9.0936e-01, -4.9271e-02,  3.5527e-07, -1.9429e-08],\n",
       "        [-1.8100e+04, -1.0074e+03, -3.0424e+02, -2.4701e+02,  4.4714e+02,\n",
       "         -4.5163e+01, -5.7159e+00, -9.7017e+00,  6.1572e+01,  2.4691e+02,\n",
       "         -1.0540e+02,  3.5884e+01,  8.3437e+00, -2.1334e+01, -1.2020e-02,\n",
       "         -2.2142e+01, -7.3099e+00, -6.4373e+01, -3.1478e+01, -1.8993e+01,\n",
       "         -1.0383e+01,  8.7807e+00, -4.7717e+00, -1.3263e+01, -6.7219e+00,\n",
       "          5.4765e+00, -4.0062e-02, -2.1820e+00,  9.2100e+00, -8.3058e+00,\n",
       "          9.0936e-01, -4.9271e-02,  3.5527e-07, -1.9429e-08],\n",
       "        [-1.8100e+04, -1.0074e+03, -3.0424e+02, -2.4701e+02,  4.4714e+02,\n",
       "         -4.5163e+01, -5.7159e+00, -9.7017e+00,  6.1572e+01,  2.4691e+02,\n",
       "         -1.0540e+02,  3.5884e+01,  8.3437e+00, -2.1334e+01, -1.2020e-02,\n",
       "         -2.2142e+01, -7.3099e+00, -6.4373e+01, -3.1478e+01, -1.8993e+01,\n",
       "         -1.0383e+01,  8.7807e+00, -4.7717e+00, -1.3263e+01, -6.7219e+00,\n",
       "          5.4765e+00, -4.0062e-02, -2.1820e+00,  9.2100e+00, -8.3058e+00,\n",
       "          9.0936e-01, -4.9271e-02,  3.5527e-07, -1.9429e-08],\n",
       "        [-1.8100e+04, -1.0074e+03, -3.0424e+02, -2.4701e+02,  4.4714e+02,\n",
       "         -4.5163e+01, -5.7159e+00, -9.7017e+00,  6.1572e+01,  2.4691e+02,\n",
       "         -1.0540e+02,  3.5884e+01,  8.3437e+00, -2.1334e+01, -1.2020e-02,\n",
       "         -2.2142e+01, -7.3099e+00, -6.4373e+01, -3.1478e+01, -1.8993e+01,\n",
       "         -1.0383e+01,  8.7807e+00, -4.7717e+00, -1.3263e+01, -6.7219e+00,\n",
       "          5.4765e+00, -4.0062e-02, -2.1820e+00,  9.2100e+00, -8.3058e+00,\n",
       "          9.0936e-01, -4.9271e-02,  3.5527e-07, -1.9429e-08],\n",
       "        [-1.8100e+04, -1.0074e+03, -3.0424e+02, -2.4701e+02,  4.4714e+02,\n",
       "         -4.5163e+01, -5.7159e+00, -9.7017e+00,  6.1572e+01,  2.4691e+02,\n",
       "         -1.0540e+02,  3.5884e+01,  8.3437e+00, -2.1334e+01, -1.2020e-02,\n",
       "         -2.2142e+01, -7.3099e+00, -6.4373e+01, -3.1478e+01, -1.8993e+01,\n",
       "         -1.0383e+01,  8.7807e+00, -4.7717e+00, -1.3263e+01, -6.7219e+00,\n",
       "          5.4765e+00, -4.0062e-02, -2.1820e+00,  9.2100e+00, -8.3058e+00,\n",
       "          9.0936e-01, -4.9271e-02,  3.5527e-07, -1.9429e-08],\n",
       "        [-1.8100e+04, -1.0074e+03, -3.0424e+02, -2.4701e+02,  4.4714e+02,\n",
       "         -4.5163e+01, -5.7159e+00, -9.7017e+00,  6.1572e+01,  2.4691e+02,\n",
       "         -1.0540e+02,  3.5884e+01,  8.3437e+00, -2.1334e+01, -1.2020e-02,\n",
       "         -2.2142e+01, -7.3099e+00, -6.4373e+01, -3.1478e+01, -1.8993e+01,\n",
       "         -1.0383e+01,  8.7807e+00, -4.7717e+00, -1.3263e+01, -6.7219e+00,\n",
       "          5.4765e+00, -4.0062e-02, -2.1820e+00,  9.2100e+00, -8.3058e+00,\n",
       "          9.0936e-01, -4.9271e-02,  3.5527e-07, -1.9429e-08],\n",
       "        [-1.8100e+04, -1.0074e+03, -3.0424e+02, -2.4701e+02,  4.4714e+02,\n",
       "         -4.5163e+01, -5.7159e+00, -9.7017e+00,  6.1572e+01,  2.4691e+02,\n",
       "         -1.0540e+02,  3.5884e+01,  8.3437e+00, -2.1334e+01, -1.2020e-02,\n",
       "         -2.2142e+01, -7.3099e+00, -6.4373e+01, -3.1478e+01, -1.8993e+01,\n",
       "         -1.0383e+01,  8.7807e+00, -4.7717e+00, -1.3263e+01, -6.7219e+00,\n",
       "          5.4765e+00, -4.0062e-02, -2.1820e+00,  9.2100e+00, -8.3058e+00,\n",
       "          9.0936e-01, -4.9271e-02,  3.5527e-07, -1.9429e-08],\n",
       "        [-1.8100e+04, -1.0074e+03, -3.0424e+02, -2.4701e+02,  4.4714e+02,\n",
       "         -4.5163e+01, -5.7159e+00, -9.7017e+00,  6.1572e+01,  2.4691e+02,\n",
       "         -1.0540e+02,  3.5884e+01,  8.3437e+00, -2.1334e+01, -1.2020e-02,\n",
       "         -2.2142e+01, -7.3099e+00, -6.4373e+01, -3.1478e+01, -1.8993e+01,\n",
       "         -1.0383e+01,  8.7807e+00, -4.7717e+00, -1.3263e+01, -6.7219e+00,\n",
       "          5.4765e+00, -4.0062e-02, -2.1820e+00,  9.2100e+00, -8.3058e+00,\n",
       "          9.0936e-01, -4.9271e-02,  3.5527e-07, -1.9429e-08],\n",
       "        [-1.8100e+04, -1.0074e+03, -3.0424e+02, -2.4701e+02,  4.4714e+02,\n",
       "         -4.5163e+01, -5.7159e+00, -9.7017e+00,  6.1572e+01,  2.4691e+02,\n",
       "         -1.0540e+02,  3.5884e+01,  8.3437e+00, -2.1334e+01, -1.2020e-02,\n",
       "         -2.2142e+01, -7.3099e+00, -6.4373e+01, -3.1478e+01, -1.8993e+01,\n",
       "         -1.0383e+01,  8.7807e+00, -4.7717e+00, -1.3263e+01, -6.7219e+00,\n",
       "          5.4765e+00, -4.0062e-02, -2.1820e+00,  9.2100e+00, -8.3058e+00,\n",
       "          9.0936e-01, -4.9271e-02,  3.5527e-07, -1.9429e-08]])"
      ]
     },
     "execution_count": 18,
     "metadata": {},
     "output_type": "execute_result"
    }
   ],
   "source": [
    "B[:10]"
   ]
  },
  {
   "cell_type": "markdown",
   "metadata": {
    "id": "NoZM3MXPR-Gr"
   },
   "source": [
    "# Test the power spectrum function"
   ]
  },
  {
   "cell_type": "code",
   "execution_count": 19,
   "metadata": {
    "colab": {
     "base_uri": "https://localhost:8080/"
    },
    "id": "YPOKGwCTBsbl",
    "outputId": "94ff3d22-ac52-4890-d65d-38cc5c07c288"
   },
   "outputs": [
    {
     "data": {
      "text/plain": [
       "(tensor([2.2221e-03, 4.4683e+02, 2.0666e+02,        nan, 1.7210e+02, 7.4293e+01,\n",
       "         5.7879e+01, 5.4817e+01, 2.8260e+01, 2.7845e+01, 1.7902e+01, 1.2234e+01,\n",
       "         8.3220e+00, 6.0986e+00, 4.1609e+00, 3.1781e+00, 2.3716e+00, 1.9650e+00,\n",
       "         1.5229e+00, 1.3527e+00]),\n",
       " tensor([ 0.0000,  1.0000,  1.2215,  1.4922,  1.8228,  2.2266,  2.7199,  3.3224,\n",
       "          4.0585,  4.9576,  6.0560,  7.3976,  9.0366, 11.0386, 13.4841, 16.4714,\n",
       "         20.1206, 24.5782, 30.0234, 36.6749, 44.8000]))"
      ]
     },
     "execution_count": 19,
     "metadata": {},
     "output_type": "execute_result"
    }
   ],
   "source": [
    "bins = 20\n",
    "#device = 'gpu'\n",
    "device = 'cpu'\n",
    "\n",
    "image_torch = torch.from_numpy(image)\n",
    "if device=='gpu':\n",
    "  image_torch = image_torch.cuda()\n",
    "\n",
    "ST.get_power_spectrum(image_torch, bins, device)"
   ]
  },
  {
   "cell_type": "markdown",
   "metadata": {
    "id": "Q7IG1sBDTWhp"
   },
   "source": [
    "# Run synthesis & Show result"
   ]
  },
  {
   "cell_type": "code",
   "execution_count": null,
   "metadata": {
    "colab": {
     "base_uri": "https://localhost:8080/",
     "height": 1000
    },
    "id": "iHaH0SD-nH7o",
    "outputId": "19a7233a-2bd3-46d4-afd2-be35a7d90386"
   },
   "outputs": [
    {
     "name": "stdout",
     "output_type": "stream",
     "text": [
      "0\n",
      "loss:  tensor(inf, grad_fn=<AddBackward0>)\n",
      "loss_mean:  tensor(2.2737e-06, grad_fn=<MulBackward0>)\n",
      "loss_bound:  tensor(inf, grad_fn=<MeanBackward0>)\n",
      "loss_L1:  tensor(7784.9917, grad_fn=<MulBackward0>)\n",
      "loss_ST:  tensor(62563.5273, grad_fn=<MulBackward0>)\n"
     ]
    },
    {
     "name": "stderr",
     "output_type": "stream",
     "text": [
      "/home/xavier/anaconda3/lib/python3.9/site-packages/torch/autograd/__init__.py:173: UserWarning: Casting complex values to real discards the imaginary part (Triggered internally at  ../aten/src/ATen/native/Copy.cpp:239.)\n",
      "  Variable._execution_engine.run_backward(  # Calls into the C++ engine to run the backward pass\n"
     ]
    }
   ],
   "source": [
    "# synthesis\n",
    "\n",
    "coef = 'ST'#'bi+P'\n",
    "#device = 'gpu'\n",
    "device = 'cpu'\n",
    "\n",
    "for random_seed in [987]:\n",
    "    synthesised_image = image_synthesis(\n",
    "        image, J=J, L=L, num_pixel=M,\n",
    "        learnable_param_list = [\n",
    "            (100*2, 5e-3), (100*2, 1e-3), (100*1, 1e-3),\n",
    "            (100*1, 5e-4), (100*1, 2e-4), (100*1, 1e-4),\n",
    "        ],\n",
    "        savedir = save_dir,\n",
    "        device = device,\n",
    "        coef = coef,\n",
    "        random_seed = random_seed,\n",
    "        low_bound = -0.015,#-0.010,\n",
    "    )\n",
    "    # np.save(save_dir +'synthesis_results_final.npy', synthesised_image)\n",
    "    \n",
    "    synthesised_image = synthesised_image[0]\n",
    "    plt.figure(figsize=(12,3),dpi=200)\n",
    "    plt.subplot(141)\n",
    "    plt.imshow(image, vmin=-0.04, vmax=0.10, )\n",
    "    plt.title('target image')\n",
    "    plt.xticks([]); plt.yticks([])\n",
    "\n",
    "    plt.subplot(142)\n",
    "    plt.imshow(synthesised_image, \n",
    "               vmin=-0.04, vmax=0.10, )\n",
    "    plt.title('synthesized image (bi)')\n",
    "    plt.xticks([]); plt.yticks([])\n",
    "    \n",
    "    plt.subplot(143)\n",
    "    y, x = np.histogram(image,  100, (-0.2,0.5))\n",
    "    plt.plot((x[1:]+x[:-1])/2, y, label='target')\n",
    "    y, x = np.histogram(synthesised_image,\n",
    "                        100, (-0.2,0.5))\n",
    "    plt.plot((x[1:]+x[:-1])/2, y, label='synthesized')\n",
    "    plt.legend()\n",
    "    plt.yscale('log')\n",
    "    plt.show()\n",
    "    print(image.std(),  synthesised_image.std())"
   ]
  },
  {
   "cell_type": "code",
   "execution_count": null,
   "metadata": {
    "id": "s9FmzPOUT-VX"
   },
   "outputs": [],
   "source": []
  }
 ],
 "metadata": {
  "accelerator": "GPU",
  "colab": {
   "authorship_tag": "ABX9TyPxwHblaDXPR2H6y88fLM0e",
   "collapsed_sections": [],
   "include_colab_link": true,
   "name": "ST-image-synthesis.ipynb",
   "provenance": []
  },
  "kernelspec": {
   "display_name": "Python 3 (ipykernel)",
   "language": "python",
   "name": "python3"
  },
  "language_info": {
   "codemirror_mode": {
    "name": "ipython",
    "version": 3
   },
   "file_extension": ".py",
   "mimetype": "text/x-python",
   "name": "python",
   "nbconvert_exporter": "python",
   "pygments_lexer": "ipython3",
   "version": "3.9.7"
  }
 },
 "nbformat": 4,
 "nbformat_minor": 4
}
